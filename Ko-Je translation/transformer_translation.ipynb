{
  "cells": [
    {
      "cell_type": "code",
      "execution_count": null,
      "metadata": {
        "id": "TFGkHLqEctg9"
      },
      "outputs": [],
      "source": [
        "!git clone \"https://github.com/kakaobrain/jejueo.git\""
      ]
    },
    {
      "cell_type": "code",
      "execution_count": null,
      "metadata": {
        "id": "SYC3Lg3-dO00"
      },
      "outputs": [],
      "source": [
        "!git clone \"https://github.com/pytorch/fairseq\""
      ]
    },
    {
      "cell_type": "code",
      "execution_count": null,
      "metadata": {
        "id": "L_8fvNUOfH30"
      },
      "outputs": [],
      "source": [
        "!pip install sentencepiece"
      ]
    },
    {
      "cell_type": "code",
      "source": [
        "from google.colab import drive\n",
        "drive.mount('/content/gdrive/')\n",
        "\n",
        "%cd '/content/gdrive/MyDrive/Tobigs/NLP_conference/'\n",
        "%cd fairseq"
      ],
      "metadata": {
        "id": "DWf6xSx0oCgP"
      },
      "execution_count": null,
      "outputs": []
    },
    {
      "cell_type": "code",
      "execution_count": null,
      "metadata": {
        "id": "PRKFytusdO6C"
      },
      "outputs": [],
      "source": [
        "!pip install --editable ./"
      ]
    },
    {
      "cell_type": "code",
      "execution_count": null,
      "metadata": {
        "id": "bYbw6Q6pfnNV"
      },
      "outputs": [],
      "source": [
        "cd /content/gdrive/MyDrive/Tobigs/NLP_conference/jejueo/translation"
      ]
    },
    {
      "cell_type": "markdown",
      "metadata": {
        "id": "MgP-l2oshgHs"
      },
      "source": [
        "# STEP 1. bpe segment for training"
      ]
    },
    {
      "cell_type": "code",
      "execution_count": null,
      "metadata": {
        "id": "wi1mpnPxfH1S"
      },
      "outputs": [],
      "source": [
        "!python bpe_segment.py --jit jit --vocab_size 4000"
      ]
    },
    {
      "cell_type": "markdown",
      "metadata": {
        "id": "fszOELeFhjtz"
      },
      "source": [
        "# STEP 2. fairseq-prepro"
      ]
    },
    {
      "cell_type": "code",
      "execution_count": null,
      "metadata": {
        "id": "qVi-t1nth8T6"
      },
      "outputs": [],
      "source": [
        "%cd /content\n",
        "\n",
        "! echo $PYTHONPATH\n",
        "\n",
        "import os\n",
        "os.environ['PYTHONPATH'] += \":/content/gdrive/MyDrive/Tobigs/NLP_conference/fairseq/\"\n",
        "\n",
        "! echo $PYTHONPATH"
      ]
    },
    {
      "cell_type": "code",
      "execution_count": null,
      "metadata": {
        "id": "42wEljMMiPWU"
      },
      "outputs": [],
      "source": [
        "cd /content/gdrive/MyDrive/Tobigs/NLP_conference/jejueo/translation"
      ]
    },
    {
      "cell_type": "code",
      "execution_count": null,
      "metadata": {
        "id": "FnNhfNfJfH6M"
      },
      "outputs": [],
      "source": [
        "!python prepro.py --src ko --tgt je --vocab_size 4000    # 표준어 -> 제주어"
      ]
    },
    {
      "cell_type": "markdown",
      "metadata": {
        "id": "xg0PTFKVilTN"
      },
      "source": [
        "# STEP 3. fairseq-train"
      ]
    },
    {
      "cell_type": "code",
      "execution_count": null,
      "metadata": {
        "id": "VIGm0c2FfH_G"
      },
      "outputs": [],
      "source": [
        "!fairseq-train data/4k/ko-je-bin \\\n",
        "    --arch transformer       \\\n",
        "    --optimizer adam \\\n",
        "    --lr 0.0005 \\\n",
        "    --label-smoothing 0.1 \\\n",
        "    --dropout 0.3       \\\n",
        "    --max-tokens 4000 \\\n",
        "    --stop-min-lr '1e-09' \\\n",
        "    --lr-scheduler inverse_sqrt       \\\n",
        "    --weight-decay 0.0001 \\\n",
        "    --criterion label_smoothed_cross_entropy       \\\n",
        "    --max-epoch 1 \\\n",
        "    --warmup-updates 4000 \\\n",
        "    --warmup-init-lr '1e-07'    \\\n",
        "    --adam-betas '(0.9, 0.98)'       \\\n",
        "    --save-dir train/4k/ko-je-bin/ckpt  \\\n",
        "    --save-interval 1"
      ]
    },
    {
      "cell_type": "markdown",
      "metadata": {
        "id": "bXVUjuT0iuK0"
      },
      "source": [
        "# STEP 4. fairseq-generate"
      ]
    },
    {
      "cell_type": "code",
      "execution_count": null,
      "metadata": {
        "id": "ztgUFN8bipvS"
      },
      "outputs": [],
      "source": [
        "!fairseq-generate data/4k/ko-je-bin \\\n",
        "  --path train/4k/ko-je-bin/ckpt/checkpoint_best.pt \\\n",
        "  --source-lang ko --target-lang je \\\n",
        "  --valid-subset 'valid' \\\n",
        "  --gen-subset 'test' \\\n",
        "  --beam 5 \\\n",
        "  --remove-bpe 'sentencepiece'\\\n",
        "  --results-path prediction"
      ]
    },
    {
      "cell_type": "code",
      "source": [
        "!grep '^H' prediction/generate-test.txt | cut -f3- > prediction/gen.out.sys # 예측된 문장 (H)\n",
        "!grep '^T' prediction/generate-test.txt | cut -f2- > prediction/gen.out.ref # 타겟(정답) 문장 (T)"
      ],
      "metadata": {
        "id": "3Rz_B7Nz5OuE"
      },
      "execution_count": null,
      "outputs": []
    },
    {
      "cell_type": "markdown",
      "source": [
        "# STEP6. Evaluation"
      ],
      "metadata": {
        "id": "dVPf8AD1BPDQ"
      }
    },
    {
      "cell_type": "code",
      "source": [
        "!fairseq-score \\\n",
        "--sys prediction/gen.out.sys \\\n",
        "--ref prediction/gen.out.ref"
      ],
      "metadata": {
        "id": "emzVRwsT8jFc"
      },
      "execution_count": null,
      "outputs": []
    }
  ],
  "metadata": {
    "colab": {
      "collapsed_sections": [],
      "name": "transformer_translation.ipynb",
      "provenance": [],
      "machine_shape": "hm"
    },
    "kernelspec": {
      "display_name": "Python 3",
      "name": "python3"
    },
    "language_info": {
      "name": "python"
    },
    "accelerator": "GPU"
  },
  "nbformat": 4,
  "nbformat_minor": 0
}